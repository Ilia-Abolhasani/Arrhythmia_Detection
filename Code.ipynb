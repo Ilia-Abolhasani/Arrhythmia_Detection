{
 "cells": [
  {
   "cell_type": "markdown",
   "metadata": {},
   "source": [
    "# Diagnosis of Cardiac Arrhythmia with PCA And MLP"
   ]
  },
  {
   "cell_type": "markdown",
   "metadata": {},
   "source": [
    "## Dataset was downloaded  from here : https://archive.ics.uci.edu/ml/datasets/arrhythmia"
   ]
  },
  {
   "cell_type": "code",
   "execution_count": 32,
   "metadata": {
    "ExecuteTime": {
     "end_time": "2021-11-18T19:25:52.546748Z",
     "start_time": "2021-11-18T19:25:52.539145Z"
    }
   },
   "outputs": [],
   "source": [
    "import time\n",
    "import numpy as np\n",
    "import pandas as pd\n",
    "import seaborn as sns\n",
    "from scipy import stats\n",
    "\n",
    "from sklearn import metrics\n",
    "from sklearn.metrics import *\n",
    "from sklearn.preprocessing import OneHotEncoder\n",
    "from sklearn.model_selection import train_test_split\n",
    "\n",
    "from sklearn.decomposition import PCA\n",
    "\n",
    "from IPython.display import clear_output    \n",
    "\n",
    "\n",
    "from matplotlib import pyplot as plt\n",
    "from matplotlib import colors\n",
    "from matplotlib.colors import ListedColormap\n",
    "\n",
    "from sklearn.neural_network import MLPClassifier\n",
    "from sklearn.model_selection import cross_val_score\n",
    "from sklearn.preprocessing import OneHotEncoder"
   ]
  },
  {
   "cell_type": "code",
   "execution_count": 9,
   "metadata": {
    "ExecuteTime": {
     "end_time": "2021-11-18T19:18:45.469803Z",
     "start_time": "2021-11-18T19:18:45.463055Z"
    }
   },
   "outputs": [],
   "source": [
    "# set some parameter for show figure in beter style\n",
    "pd.options.display.float_format = '{:.1f}'.format\n",
    "sns.set()\n",
    "plt.style.use('ggplot') # 'Solarize_Light2', '_classic_test_patch', 'bmh', 'classic', 'dark_background', 'fast', 'fivethirtyeight', 'ggplot', 'grayscale', 'seaborn', 'seaborn-bright', 'seaborn-colorblind', 'seaborn-dark', 'seaborn-dark-palette', 'seaborn-darkgrid', 'seaborn-deep', 'seaborn-muted', 'seaborn-notebook', 'seaborn-paper', 'seaborn-pastel', 'seaborn-poster', 'seaborn-talk', 'seaborn-ticks', 'seaborn-white', 'seaborn-whitegrid', 'tableau-colorblind10'\n",
    "%matplotlib inline"
   ]
  },
  {
   "cell_type": "markdown",
   "metadata": {},
   "source": [
    "## Read datase"
   ]
  },
  {
   "cell_type": "code",
   "execution_count": 10,
   "metadata": {
    "ExecuteTime": {
     "end_time": "2021-11-18T19:18:46.423408Z",
     "start_time": "2021-11-18T19:18:46.362952Z"
    }
   },
   "outputs": [
    {
     "name": "stdout",
     "output_type": "stream",
     "text": [
      "dataset shape is equal : (452, 280)\n"
     ]
    },
    {
     "data": {
      "text/html": [
       "<div>\n",
       "<style scoped>\n",
       "    .dataframe tbody tr th:only-of-type {\n",
       "        vertical-align: middle;\n",
       "    }\n",
       "\n",
       "    .dataframe tbody tr th {\n",
       "        vertical-align: top;\n",
       "    }\n",
       "\n",
       "    .dataframe thead th {\n",
       "        text-align: right;\n",
       "    }\n",
       "</style>\n",
       "<table border=\"1\" class=\"dataframe\">\n",
       "  <thead>\n",
       "    <tr style=\"text-align: right;\">\n",
       "      <th></th>\n",
       "      <th>0</th>\n",
       "      <th>1</th>\n",
       "      <th>2</th>\n",
       "      <th>3</th>\n",
       "      <th>4</th>\n",
       "      <th>5</th>\n",
       "      <th>6</th>\n",
       "      <th>7</th>\n",
       "      <th>8</th>\n",
       "      <th>9</th>\n",
       "      <th>...</th>\n",
       "      <th>270</th>\n",
       "      <th>271</th>\n",
       "      <th>272</th>\n",
       "      <th>273</th>\n",
       "      <th>274</th>\n",
       "      <th>275</th>\n",
       "      <th>276</th>\n",
       "      <th>277</th>\n",
       "      <th>278</th>\n",
       "      <th>279</th>\n",
       "    </tr>\n",
       "  </thead>\n",
       "  <tbody>\n",
       "    <tr>\n",
       "      <th>0</th>\n",
       "      <td>75</td>\n",
       "      <td>0</td>\n",
       "      <td>190</td>\n",
       "      <td>80</td>\n",
       "      <td>91</td>\n",
       "      <td>193</td>\n",
       "      <td>371</td>\n",
       "      <td>174</td>\n",
       "      <td>121</td>\n",
       "      <td>-16</td>\n",
       "      <td>...</td>\n",
       "      <td>0.0</td>\n",
       "      <td>9.0</td>\n",
       "      <td>-0.9</td>\n",
       "      <td>0.0</td>\n",
       "      <td>0.0</td>\n",
       "      <td>0.9</td>\n",
       "      <td>2.9</td>\n",
       "      <td>23.3</td>\n",
       "      <td>49.4</td>\n",
       "      <td>8</td>\n",
       "    </tr>\n",
       "    <tr>\n",
       "      <th>1</th>\n",
       "      <td>56</td>\n",
       "      <td>1</td>\n",
       "      <td>165</td>\n",
       "      <td>64</td>\n",
       "      <td>81</td>\n",
       "      <td>174</td>\n",
       "      <td>401</td>\n",
       "      <td>149</td>\n",
       "      <td>39</td>\n",
       "      <td>25</td>\n",
       "      <td>...</td>\n",
       "      <td>0.0</td>\n",
       "      <td>8.5</td>\n",
       "      <td>0.0</td>\n",
       "      <td>0.0</td>\n",
       "      <td>0.0</td>\n",
       "      <td>0.2</td>\n",
       "      <td>2.1</td>\n",
       "      <td>20.4</td>\n",
       "      <td>38.8</td>\n",
       "      <td>6</td>\n",
       "    </tr>\n",
       "  </tbody>\n",
       "</table>\n",
       "<p>2 rows × 280 columns</p>\n",
       "</div>"
      ],
      "text/plain": [
       "   0    1    2    3    4    5    6    7    8    9    ... 270 271  272 273 274  \\\n",
       "0   75    0  190   80   91  193  371  174  121  -16  ... 0.0 9.0 -0.9 0.0 0.0   \n",
       "1   56    1  165   64   81  174  401  149   39   25  ... 0.0 8.5  0.0 0.0 0.0   \n",
       "\n",
       "   275  276  277  278  279  \n",
       "0  0.9  2.9 23.3 49.4    8  \n",
       "1  0.2  2.1 20.4 38.8    6  \n",
       "\n",
       "[2 rows x 280 columns]"
      ]
     },
     "execution_count": 10,
     "metadata": {},
     "output_type": "execute_result"
    }
   ],
   "source": [
    "df = pd.read_csv('./arrhythmia.data',header=None)\n",
    "print(f'dataset shape is equal : {df.shape}')\n",
    "df.head(2)"
   ]
  },
  {
   "cell_type": "markdown",
   "metadata": {},
   "source": [
    "# Dataset Preparation"
   ]
  },
  {
   "cell_type": "code",
   "execution_count": 11,
   "metadata": {
    "ExecuteTime": {
     "end_time": "2021-11-18T19:18:47.676348Z",
     "start_time": "2021-11-18T19:18:47.653194Z"
    }
   },
   "outputs": [
    {
     "data": {
      "text/html": [
       "<div>\n",
       "<style scoped>\n",
       "    .dataframe tbody tr th:only-of-type {\n",
       "        vertical-align: middle;\n",
       "    }\n",
       "\n",
       "    .dataframe tbody tr th {\n",
       "        vertical-align: top;\n",
       "    }\n",
       "\n",
       "    .dataframe thead th {\n",
       "        text-align: right;\n",
       "    }\n",
       "</style>\n",
       "<table border=\"1\" class=\"dataframe\">\n",
       "  <thead>\n",
       "    <tr style=\"text-align: right;\">\n",
       "      <th></th>\n",
       "      <th>0</th>\n",
       "      <th>1</th>\n",
       "      <th>2</th>\n",
       "      <th>3</th>\n",
       "      <th>4</th>\n",
       "      <th>5</th>\n",
       "      <th>6</th>\n",
       "      <th>7</th>\n",
       "      <th>8</th>\n",
       "      <th>9</th>\n",
       "      <th>...</th>\n",
       "      <th>270</th>\n",
       "      <th>271</th>\n",
       "      <th>272</th>\n",
       "      <th>273</th>\n",
       "      <th>274</th>\n",
       "      <th>275</th>\n",
       "      <th>276</th>\n",
       "      <th>277</th>\n",
       "      <th>278</th>\n",
       "      <th>279</th>\n",
       "    </tr>\n",
       "  </thead>\n",
       "  <tbody>\n",
       "    <tr>\n",
       "      <th>0</th>\n",
       "      <td>37</td>\n",
       "      <td>1</td>\n",
       "      <td>159</td>\n",
       "      <td>56</td>\n",
       "      <td>75</td>\n",
       "      <td>162</td>\n",
       "      <td>339</td>\n",
       "      <td>141</td>\n",
       "      <td>96</td>\n",
       "      <td>60</td>\n",
       "      <td>...</td>\n",
       "      <td>0.0</td>\n",
       "      <td>5.0</td>\n",
       "      <td>-1.3</td>\n",
       "      <td>0.0</td>\n",
       "      <td>0.0</td>\n",
       "      <td>0.4</td>\n",
       "      <td>1.2</td>\n",
       "      <td>9.4</td>\n",
       "      <td>16.6</td>\n",
       "      <td>1</td>\n",
       "    </tr>\n",
       "    <tr>\n",
       "      <th>1</th>\n",
       "      <td>52</td>\n",
       "      <td>0</td>\n",
       "      <td>165</td>\n",
       "      <td>80</td>\n",
       "      <td>88</td>\n",
       "      <td>202</td>\n",
       "      <td>369</td>\n",
       "      <td>113</td>\n",
       "      <td>97</td>\n",
       "      <td>58</td>\n",
       "      <td>...</td>\n",
       "      <td>-0.5</td>\n",
       "      <td>10.7</td>\n",
       "      <td>-1.7</td>\n",
       "      <td>0.0</td>\n",
       "      <td>0.0</td>\n",
       "      <td>0.4</td>\n",
       "      <td>-0.3</td>\n",
       "      <td>19.6</td>\n",
       "      <td>17.7</td>\n",
       "      <td>16</td>\n",
       "    </tr>\n",
       "  </tbody>\n",
       "</table>\n",
       "<p>2 rows × 280 columns</p>\n",
       "</div>"
      ],
      "text/plain": [
       "   0    1    2    3    4    5    6    7    8    9    ...  270  271  272 273  \\\n",
       "0   37    1  159   56   75  162  339  141   96   60  ...  0.0  5.0 -1.3 0.0   \n",
       "1   52    0  165   80   88  202  369  113   97   58  ... -0.5 10.7 -1.7 0.0   \n",
       "\n",
       "  274  275  276  277  278  279  \n",
       "0 0.0  0.4  1.2  9.4 16.6    1  \n",
       "1 0.0  0.4 -0.3 19.6 17.7   16  \n",
       "\n",
       "[2 rows x 280 columns]"
      ]
     },
     "execution_count": 11,
     "metadata": {},
     "output_type": "execute_result"
    }
   ],
   "source": [
    "# shuffle \n",
    "df = df.sample(frac=1, random_state=0).reset_index(drop=True)   \n",
    "df.head(2)"
   ]
  },
  {
   "cell_type": "code",
   "execution_count": 12,
   "metadata": {
    "ExecuteTime": {
     "end_time": "2021-11-18T19:18:49.164399Z",
     "start_time": "2021-11-18T19:18:48.231566Z"
    }
   },
   "outputs": [],
   "source": [
    "# replace ? with mean value\n",
    "for c in df.iloc[:,:-1].columns:        \n",
    "    notMissedIndex = df[c].apply(lambda x : str(x) != '?')    \n",
    "    MissedIndex = df[c].apply(lambda x : str(x) == '?')    \n",
    "    mean = np.mean(df[c][notMissedIndex].apply(lambda x : float(x)).unique())          \n",
    "    df[c] = df[c].replace('?', mean)    \n",
    "    df[c] = df[c].apply(lambda x : float(x))    "
   ]
  },
  {
   "cell_type": "code",
   "execution_count": 13,
   "metadata": {
    "ExecuteTime": {
     "end_time": "2021-11-18T19:18:49.267050Z",
     "start_time": "2021-11-18T19:18:49.242082Z"
    }
   },
   "outputs": [],
   "source": [
    "for i in [0,5,8]: # replace 0 with mean value\n",
    "    notMissedIndex = df.iloc[:,i].apply(lambda x : x != 0)\n",
    "    MissedIndex = df.iloc[:,i].apply(lambda x : x == 0)\n",
    "    mean = np.mean(df.iloc[:,i][notMissedIndex].apply(lambda x : x).unique())          \n",
    "    df.iloc[:,i] = df.iloc[:,i].replace(0, mean)    "
   ]
  },
  {
   "cell_type": "code",
   "execution_count": 14,
   "metadata": {
    "ExecuteTime": {
     "end_time": "2021-11-18T19:18:50.375683Z",
     "start_time": "2021-11-18T19:18:50.207079Z"
    }
   },
   "outputs": [
    {
     "data": {
      "text/html": [
       "<div>\n",
       "<style scoped>\n",
       "    .dataframe tbody tr th:only-of-type {\n",
       "        vertical-align: middle;\n",
       "    }\n",
       "\n",
       "    .dataframe tbody tr th {\n",
       "        vertical-align: top;\n",
       "    }\n",
       "\n",
       "    .dataframe thead th {\n",
       "        text-align: right;\n",
       "    }\n",
       "</style>\n",
       "<table border=\"1\" class=\"dataframe\">\n",
       "  <thead>\n",
       "    <tr style=\"text-align: right;\">\n",
       "      <th></th>\n",
       "      <th>0</th>\n",
       "      <th>1</th>\n",
       "      <th>2</th>\n",
       "      <th>3</th>\n",
       "      <th>4</th>\n",
       "      <th>5</th>\n",
       "      <th>6</th>\n",
       "      <th>7</th>\n",
       "      <th>8</th>\n",
       "      <th>9</th>\n",
       "      <th>...</th>\n",
       "      <th>270</th>\n",
       "      <th>271</th>\n",
       "      <th>272</th>\n",
       "      <th>273</th>\n",
       "      <th>274</th>\n",
       "      <th>275</th>\n",
       "      <th>276</th>\n",
       "      <th>277</th>\n",
       "      <th>278</th>\n",
       "      <th>279</th>\n",
       "    </tr>\n",
       "  </thead>\n",
       "  <tbody>\n",
       "    <tr>\n",
       "      <th>0</th>\n",
       "      <td>-0.6</td>\n",
       "      <td>1.0</td>\n",
       "      <td>-0.2</td>\n",
       "      <td>-0.7</td>\n",
       "      <td>-0.9</td>\n",
       "      <td>0.0</td>\n",
       "      <td>-0.8</td>\n",
       "      <td>-0.8</td>\n",
       "      <td>0.2</td>\n",
       "      <td>0.6</td>\n",
       "      <td>...</td>\n",
       "      <td>0.0</td>\n",
       "      <td>-1.2</td>\n",
       "      <td>-1.3</td>\n",
       "      <td>0.0</td>\n",
       "      <td>0.0</td>\n",
       "      <td>-0.3</td>\n",
       "      <td>-0.0</td>\n",
       "      <td>-0.7</td>\n",
       "      <td>-0.7</td>\n",
       "      <td>1</td>\n",
       "    </tr>\n",
       "    <tr>\n",
       "      <th>1</th>\n",
       "      <td>0.3</td>\n",
       "      <td>0.0</td>\n",
       "      <td>-0.0</td>\n",
       "      <td>0.7</td>\n",
       "      <td>-0.1</td>\n",
       "      <td>1.3</td>\n",
       "      <td>0.1</td>\n",
       "      <td>-1.6</td>\n",
       "      <td>0.2</td>\n",
       "      <td>0.5</td>\n",
       "      <td>...</td>\n",
       "      <td>-0.5</td>\n",
       "      <td>0.5</td>\n",
       "      <td>-1.7</td>\n",
       "      <td>0.0</td>\n",
       "      <td>0.0</td>\n",
       "      <td>-0.3</td>\n",
       "      <td>-1.1</td>\n",
       "      <td>0.0</td>\n",
       "      <td>-0.6</td>\n",
       "      <td>16</td>\n",
       "    </tr>\n",
       "  </tbody>\n",
       "</table>\n",
       "<p>2 rows × 280 columns</p>\n",
       "</div>"
      ],
      "text/plain": [
       "   0    1    2    3    4    5    6    7    8    9    ...  270  271  272  273  \\\n",
       "0 -0.6  1.0 -0.2 -0.7 -0.9  0.0 -0.8 -0.8  0.2  0.6  ...  0.0 -1.2 -1.3  0.0   \n",
       "1  0.3  0.0 -0.0  0.7 -0.1  1.3  0.1 -1.6  0.2  0.5  ... -0.5  0.5 -1.7  0.0   \n",
       "\n",
       "   274  275  276  277  278  279  \n",
       "0  0.0 -0.3 -0.0 -0.7 -0.7    1  \n",
       "1  0.0 -0.3 -1.1  0.0 -0.6   16  \n",
       "\n",
       "[2 rows x 280 columns]"
      ]
     },
     "execution_count": 14,
     "metadata": {},
     "output_type": "execute_result"
    }
   ],
   "source": [
    "for c in df.iloc[:,:-1].columns: # standardization\n",
    "    if(sum(df[c].unique()) > 2):\n",
    "        df[c] = (df[c] - df[c].mean()) / df[c].std()    \n",
    "df.head(2)"
   ]
  },
  {
   "cell_type": "markdown",
   "metadata": {},
   "source": [
    "## In First step, split Feature and Tag from each other"
   ]
  },
  {
   "cell_type": "code",
   "execution_count": 15,
   "metadata": {
    "ExecuteTime": {
     "end_time": "2021-11-18T19:18:55.265698Z",
     "start_time": "2021-11-18T19:18:55.246000Z"
    }
   },
   "outputs": [
    {
     "name": "stdout",
     "output_type": "stream",
     "text": [
      "Feature shape : (452, 279)\n"
     ]
    },
    {
     "data": {
      "text/html": [
       "<div>\n",
       "<style scoped>\n",
       "    .dataframe tbody tr th:only-of-type {\n",
       "        vertical-align: middle;\n",
       "    }\n",
       "\n",
       "    .dataframe tbody tr th {\n",
       "        vertical-align: top;\n",
       "    }\n",
       "\n",
       "    .dataframe thead th {\n",
       "        text-align: right;\n",
       "    }\n",
       "</style>\n",
       "<table border=\"1\" class=\"dataframe\">\n",
       "  <thead>\n",
       "    <tr style=\"text-align: right;\">\n",
       "      <th></th>\n",
       "      <th>0</th>\n",
       "      <th>1</th>\n",
       "      <th>2</th>\n",
       "      <th>3</th>\n",
       "      <th>4</th>\n",
       "      <th>5</th>\n",
       "      <th>6</th>\n",
       "      <th>7</th>\n",
       "      <th>8</th>\n",
       "      <th>9</th>\n",
       "      <th>...</th>\n",
       "      <th>269</th>\n",
       "      <th>270</th>\n",
       "      <th>271</th>\n",
       "      <th>272</th>\n",
       "      <th>273</th>\n",
       "      <th>274</th>\n",
       "      <th>275</th>\n",
       "      <th>276</th>\n",
       "      <th>277</th>\n",
       "      <th>278</th>\n",
       "    </tr>\n",
       "  </thead>\n",
       "  <tbody>\n",
       "    <tr>\n",
       "      <th>0</th>\n",
       "      <td>-0.6</td>\n",
       "      <td>1.0</td>\n",
       "      <td>-0.2</td>\n",
       "      <td>-0.7</td>\n",
       "      <td>-0.9</td>\n",
       "      <td>0.0</td>\n",
       "      <td>-0.8</td>\n",
       "      <td>-0.8</td>\n",
       "      <td>0.2</td>\n",
       "      <td>0.6</td>\n",
       "      <td>...</td>\n",
       "      <td>0.0</td>\n",
       "      <td>0.0</td>\n",
       "      <td>-1.2</td>\n",
       "      <td>-1.3</td>\n",
       "      <td>0.0</td>\n",
       "      <td>0.0</td>\n",
       "      <td>-0.3</td>\n",
       "      <td>-0.0</td>\n",
       "      <td>-0.7</td>\n",
       "      <td>-0.7</td>\n",
       "    </tr>\n",
       "    <tr>\n",
       "      <th>1</th>\n",
       "      <td>0.3</td>\n",
       "      <td>0.0</td>\n",
       "      <td>-0.0</td>\n",
       "      <td>0.7</td>\n",
       "      <td>-0.1</td>\n",
       "      <td>1.3</td>\n",
       "      <td>0.1</td>\n",
       "      <td>-1.6</td>\n",
       "      <td>0.2</td>\n",
       "      <td>0.5</td>\n",
       "      <td>...</td>\n",
       "      <td>-0.4</td>\n",
       "      <td>-0.5</td>\n",
       "      <td>0.5</td>\n",
       "      <td>-1.7</td>\n",
       "      <td>0.0</td>\n",
       "      <td>0.0</td>\n",
       "      <td>-0.3</td>\n",
       "      <td>-1.1</td>\n",
       "      <td>0.0</td>\n",
       "      <td>-0.6</td>\n",
       "    </tr>\n",
       "  </tbody>\n",
       "</table>\n",
       "<p>2 rows × 279 columns</p>\n",
       "</div>"
      ],
      "text/plain": [
       "   0    1    2    3    4    5    6    7    8    9    ...  269  270  271  272  \\\n",
       "0 -0.6  1.0 -0.2 -0.7 -0.9  0.0 -0.8 -0.8  0.2  0.6  ...  0.0  0.0 -1.2 -1.3   \n",
       "1  0.3  0.0 -0.0  0.7 -0.1  1.3  0.1 -1.6  0.2  0.5  ... -0.4 -0.5  0.5 -1.7   \n",
       "\n",
       "   273  274  275  276  277  278  \n",
       "0  0.0  0.0 -0.3 -0.0 -0.7 -0.7  \n",
       "1  0.0  0.0 -0.3 -1.1  0.0 -0.6  \n",
       "\n",
       "[2 rows x 279 columns]"
      ]
     },
     "execution_count": 15,
     "metadata": {},
     "output_type": "execute_result"
    }
   ],
   "source": [
    "X = df.iloc[:,:-1]\n",
    "print(f'Feature shape : {X.shape}')\n",
    "X.head(2)"
   ]
  },
  {
   "cell_type": "code",
   "execution_count": 16,
   "metadata": {
    "ExecuteTime": {
     "end_time": "2021-11-18T19:18:56.140017Z",
     "start_time": "2021-11-18T19:18:56.132598Z"
    },
    "scrolled": true
   },
   "outputs": [
    {
     "name": "stdout",
     "output_type": "stream",
     "text": [
      "Target shape : (452,)\n"
     ]
    },
    {
     "data": {
      "text/plain": [
       "0     1\n",
       "1    16\n",
       "Name: 279, dtype: int64"
      ]
     },
     "execution_count": 16,
     "metadata": {},
     "output_type": "execute_result"
    }
   ],
   "source": [
    "Y = df.iloc[:,-1]\n",
    "print(f'Target shape : {Y.shape}')\n",
    "Y.head(2)"
   ]
  },
  {
   "cell_type": "markdown",
   "metadata": {},
   "source": [
    "## Use PCA in Dataset"
   ]
  },
  {
   "cell_type": "code",
   "execution_count": 17,
   "metadata": {
    "ExecuteTime": {
     "end_time": "2021-11-18T19:19:00.874564Z",
     "start_time": "2021-11-18T19:19:00.437675Z"
    }
   },
   "outputs": [
    {
     "data": {
      "image/png": "[encoded data removed]",
      "text/plain": [
       "<Figure size 432x288 with 1 Axes>"
      ]
     },
     "metadata": {
      "needs_background": "light"
     },
     "output_type": "display_data"
    }
   ],
   "source": [
    "pca = PCA(n_components=279)\n",
    "principal = pca.fit_transform(X)\n",
    "plt.plot(pca.explained_variance_ratio_)\n",
    "plt.xlabel('number of components')\n",
    "plt.ylabel('variance ratio')\n",
    "plt.show()"
   ]
  },
  {
   "cell_type": "code",
   "execution_count": 18,
   "metadata": {
    "ExecuteTime": {
     "end_time": "2021-11-18T19:19:18.957355Z",
     "start_time": "2021-11-18T19:19:09.670393Z"
    }
   },
   "outputs": [
    {
     "name": "stdout",
     "output_type": "stream",
     "text": [
      "lowest number of components with variances cutoff 0.995 is 43\n"
     ]
    },
    {
     "data": {
      "image/png": "[encoded data removed]",
      "text/plain": [
       "<Figure size 432x288 with 1 Axes>"
      ]
     },
     "metadata": {
      "needs_background": "light"
     },
     "output_type": "display_data"
    }
   ],
   "source": [
    "variance_cutoff = 0.995 # save 99.5 % of data ratio\n",
    "\n",
    "variances = list()\n",
    "for i in range(1,X.shape[1]):\n",
    "    pca = PCA(n_components=i)\n",
    "    principal = pca.fit_transform(X)\n",
    "    variances.append(sum(pca.explained_variance_ratio_))\n",
    "d = [i for i in range(0,len(variances)) if variances[i] >= variance_cutoff][0]\n",
    "print(f'lowest number of components with variances cutoff {variance_cutoff} is {d}')\n",
    "\n",
    "plt.plot(variances)\n",
    "plt.plot(d,variances[d],'ys')\n",
    "plt.xlabel('number of components')\n",
    "plt.ylabel('total variances')\n",
    "plt.title('Ratio of components to variation')\n",
    "plt.show()"
   ]
  },
  {
   "cell_type": "code",
   "execution_count": 19,
   "metadata": {
    "ExecuteTime": {
     "end_time": "2021-11-18T19:19:19.090655Z",
     "start_time": "2021-11-18T19:19:19.048059Z"
    }
   },
   "outputs": [],
   "source": [
    "pca = PCA(n_components=d)\n",
    "Xpca = pca.fit_transform(X)"
   ]
  },
  {
   "cell_type": "markdown",
   "metadata": {},
   "source": [
    "# Train Test split"
   ]
  },
  {
   "cell_type": "code",
   "execution_count": 20,
   "metadata": {
    "ExecuteTime": {
     "end_time": "2021-11-18T19:19:19.191824Z",
     "start_time": "2021-11-18T19:19:19.184128Z"
    }
   },
   "outputs": [
    {
     "name": "stdout",
     "output_type": "stream",
     "text": [
      "X_train shape : (316, 43)\n",
      "y_train shape : (316,)\n",
      "X_test shape : (136, 43)\n",
      "y_test shape : (136,)\n"
     ]
    }
   ],
   "source": [
    "X_train, X_test, y_train, y_test = train_test_split(Xpca, Y, test_size = 0.3, random_state = 0)\n",
    "print(f'X_train shape : {X_train.shape}')\n",
    "print(f'y_train shape : {y_train.shape}')\n",
    "print(f'X_test shape : {X_test.shape}')\n",
    "print(f'y_test shape : {y_test.shape}')"
   ]
  },
  {
   "cell_type": "markdown",
   "metadata": {},
   "source": [
    "# Run for two class mode :"
   ]
  },
  {
   "cell_type": "code",
   "execution_count": 21,
   "metadata": {
    "ExecuteTime": {
     "end_time": "2021-11-18T19:19:19.847763Z",
     "start_time": "2021-11-18T19:19:19.838232Z"
    }
   },
   "outputs": [],
   "source": [
    "y_train2 = y_train.apply(lambda x : int(x != 1))\n",
    "y_test2 = y_test.apply(lambda x : int(x != 1))"
   ]
  },
  {
   "cell_type": "code",
   "execution_count": 22,
   "metadata": {
    "ExecuteTime": {
     "end_time": "2021-11-18T19:19:29.686658Z",
     "start_time": "2021-11-18T19:19:29.471038Z"
    }
   },
   "outputs": [
    {
     "data": {
      "image/png": "[encoded data removed]",
      "text/plain": [
       "<Figure size 432x288 with 1 Axes>"
      ]
     },
     "metadata": {
      "needs_background": "light"
     },
     "output_type": "display_data"
    }
   ],
   "source": [
    "tag = df.iloc[:,-1]\n",
    "tag = tag != 1\n",
    "ax = tag.value_counts(sort = False).plot(kind='bar',title='show calss histogram')\n",
    "ax.set_xticks(range(0,2))\n",
    "ax.set_xticklabels(['Normal', 'Arrhythmia'])\n",
    "plt.show()"
   ]
  },
  {
   "cell_type": "markdown",
   "metadata": {},
   "source": [
    "# Use sklearn MLP"
   ]
  },
  {
   "cell_type": "code",
   "execution_count": 23,
   "metadata": {
    "ExecuteTime": {
     "end_time": "2021-11-18T19:19:36.729422Z",
     "start_time": "2021-11-18T19:19:31.390055Z"
    }
   },
   "outputs": [
    {
     "name": "stdout",
     "output_type": "stream",
     "text": [
      "[0.6875     0.52380952 0.76190476 0.65079365 0.77777778]\n",
      "0.6803571428571428\n"
     ]
    }
   ],
   "source": [
    "alpha = 0.01\n",
    "clf = MLPClassifier(max_iter=10000, activation='relu', solver='adam', alpha=alpha,learning_rate = 'invscaling'\n",
    "                    ,learning_rate_init = 0.01, power_t = 0.2,\n",
    "                     hidden_layer_sizes=(43,43,21,10,5),momentum=0.9,batch_size='auto', random_state=10, validation_fraction=0.15\n",
    "                   ,early_stopping =True, n_iter_no_change= 50)\n",
    "\n",
    "scores = cross_val_score(clf, X_train, y_train2, cv=5)\n",
    "print(scores)\n",
    "print(scores.mean())"
   ]
  },
  {
   "cell_type": "code",
   "execution_count": 24,
   "metadata": {
    "ExecuteTime": {
     "end_time": "2021-11-18T19:19:40.627091Z",
     "start_time": "2021-11-18T19:19:38.989313Z"
    }
   },
   "outputs": [
    {
     "data": {
      "text/plain": [
       "MLPClassifier(alpha=0.01, early_stopping=True,\n",
       "              hidden_layer_sizes=(43, 43, 21, 10, 5),\n",
       "              learning_rate='invscaling', learning_rate_init=0.01,\n",
       "              max_iter=10000, n_iter_no_change=50, power_t=0.2, random_state=10,\n",
       "              validation_fraction=0.15)"
      ]
     },
     "execution_count": 24,
     "metadata": {},
     "output_type": "execute_result"
    }
   ],
   "source": [
    "clf.fit(X_train,y_train2)"
   ]
  },
  {
   "cell_type": "code",
   "execution_count": 25,
   "metadata": {
    "ExecuteTime": {
     "end_time": "2021-11-18T19:19:40.813934Z",
     "start_time": "2021-11-18T19:19:40.794502Z"
    }
   },
   "outputs": [
    {
     "name": "stdout",
     "output_type": "stream",
     "text": [
      "Train accuracy is : 0.9145569620253164\n",
      "Test accuracy is : 0.6764705882352942\n"
     ]
    }
   ],
   "source": [
    "print(f'Train accuracy is : {metrics.accuracy_score(clf.predict(X_train), y_train2)}')\n",
    "print(f'Test accuracy is : {metrics.accuracy_score(clf.predict(X_test), y_test2)}')"
   ]
  },
  {
   "cell_type": "markdown",
   "metadata": {},
   "source": [
    "# Train data confusion matrix"
   ]
  },
  {
   "cell_type": "code",
   "execution_count": 59,
   "metadata": {
    "ExecuteTime": {
     "end_time": "2021-11-18T19:37:26.321555Z",
     "start_time": "2021-11-18T19:37:25.736685Z"
    },
    "run_control": {
     "marked": true
    }
   },
   "outputs": [
    {
     "data": {
      "image/png": "[encoded data removed]",
      "text/plain": [
       "<Figure size 288x288 with 2 Axes>"
      ]
     },
     "metadata": {
      "needs_background": "light"
     },
     "output_type": "display_data"
    },
    {
     "data": {
      "image/png": "[encoded data removed]",
      "text/plain": [
       "<Figure size 288x288 with 2 Axes>"
      ]
     },
     "metadata": {
      "needs_background": "light"
     },
     "output_type": "display_data"
    }
   ],
   "source": [
    "matrix = metrics.confusion_matrix(y_train2, clf.predict(X_train))\n",
    "fig, ax = plt.subplots(figsize=(4,4))\n",
    "sns.heatmap(data=matrix, cmap=\"coolwarm\",linecolor='white',linewidths=2,\n",
    "    xticklabels=['Normal', 'Arrhythmia'],yticklabels=['Normal', 'Arrhythmia'],annot=True,fmt=\"d\")    \n",
    "plt.title(\"Confusion Matrix\")\n",
    "plt.ylabel(\"True Label\")\n",
    "plt.xlabel(\"Predicted Label\")\n",
    "ax.set_ylim([0,2])\n",
    "plt.show()    \n",
    "\n",
    "matrix = metrics.confusion_matrix(y_train2, clf.predict(X_train))\n",
    "matrix =  np.divide(matrix.transpose(),np.sum(matrix, axis=1)).transpose() * 100\n",
    "fig, ax = plt.subplots(figsize=(4,4))\n",
    "ax = sns.heatmap(data=matrix, cmap=\"coolwarm\",linecolor='white',linewidths=2,\n",
    "    xticklabels=['Normal', 'Arrhythmia'],yticklabels=['Normal', 'Arrhythmia'],annot=True,fmt=\".2f\")    \n",
    "for t in ax.texts:t.set_text(t.get_text() + \"%\")\n",
    "plt.title(\"Confusion Matrix\")\n",
    "plt.ylabel(\"True Label\")\n",
    "plt.xlabel(\"Predicted Label\")\n",
    "ax.set_ylim([0,2])\n",
    "plt.show()    "
   ]
  },
  {
   "cell_type": "markdown",
   "metadata": {},
   "source": [
    "# Test data confusion matrix"
   ]
  },
  {
   "cell_type": "code",
   "execution_count": 60,
   "metadata": {
    "ExecuteTime": {
     "end_time": "2021-11-18T19:37:28.123060Z",
     "start_time": "2021-11-18T19:37:27.535753Z"
    }
   },
   "outputs": [
    {
     "data": {
      "image/png": "[encoded data removed]",
      "text/plain": [
       "<Figure size 288x288 with 2 Axes>"
      ]
     },
     "metadata": {
      "needs_background": "light"
     },
     "output_type": "display_data"
    },
    {
     "data": {
      "image/png": "[encoded data removed]",
      "text/plain": [
       "<Figure size 288x288 with 2 Axes>"
      ]
     },
     "metadata": {
      "needs_background": "light"
     },
     "output_type": "display_data"
    }
   ],
   "source": [
    "matrix = metrics.confusion_matrix(y_test2, clf.predict(X_test))\n",
    "fig, ax = plt.subplots(figsize=(4,4))\n",
    "sns.heatmap(data=matrix, cmap=\"coolwarm\",linecolor='white',linewidths=2,\n",
    "    xticklabels=['Normal', 'Arrhythmia'],yticklabels=['Normal', 'Arrhythmia'],annot=True,fmt=\"d\")    \n",
    "plt.title(\"Confusion Matrix\")\n",
    "plt.ylabel(\"True Label\")\n",
    "plt.xlabel(\"Predicted Label\")\n",
    "ax.set_ylim([0,2])\n",
    "plt.show()    \n",
    "\n",
    "matrix = metrics.confusion_matrix(y_test2, clf.predict(X_test))\n",
    "matrix =  np.divide(matrix.transpose(),np.sum(matrix, axis=1)).transpose() * 100\n",
    "fig, ax = plt.subplots(figsize=(4,4))\n",
    "ax = sns.heatmap(data=matrix, cmap=\"coolwarm\",linecolor='white',linewidths=2,\n",
    "    xticklabels=['Normal', 'Arrhythmia'],yticklabels=['Normal', 'Arrhythmia'],annot=True,fmt=\".2f\")    \n",
    "for t in ax.texts:t.set_text(t.get_text() + \"%\")\n",
    "plt.title(\"Confusion Matrix\")\n",
    "plt.ylabel(\"True Label\")\n",
    "plt.xlabel(\"Predicted Label\")\n",
    "ax.set_ylim([0,2])\n",
    "plt.show()    "
   ]
  },
  {
   "cell_type": "markdown",
   "metadata": {},
   "source": [
    "# All data confusion matrix"
   ]
  },
  {
   "cell_type": "code",
   "execution_count": 168,
   "metadata": {},
   "outputs": [
    {
     "data": {
      "image/png": "[encoded data removed]",
      "text/plain": [
       "<Figure size 288x288 with 2 Axes>"
      ]
     },
     "metadata": {
      "needs_background": "light"
     },
     "output_type": "display_data"
    },
    {
     "data": {
      "image/png": "[encoded data removed]",
      "text/plain": [
       "<Figure size 288x288 with 2 Axes>"
      ]
     },
     "metadata": {
      "needs_background": "light"
     },
     "output_type": "display_data"
    }
   ],
   "source": [
    "matrix = metrics.confusion_matrix(np.concatenate((y_train2, y_test2)), clf.predict(np.concatenate((X_train,X_test))))\n",
    "fig, ax = plt.subplots(figsize=(4,4))\n",
    "sns.heatmap(data=matrix, cmap=\"coolwarm\",linecolor='white',linewidths=2,\n",
    "    xticklabels=['Normal', 'Arrhythmia'],yticklabels=['Normal', 'Arrhythmia'],annot=True,fmt=\"d\")    \n",
    "plt.title(\"Confusion Matrix\")\n",
    "plt.ylabel(\"True Label\")\n",
    "plt.xlabel(\"Predicted Label\")\n",
    "ax.set_ylim([0,2])\n",
    "plt.show()    \n",
    "\n",
    "matrix = metrics.confusion_matrix(y_test2, clf.predict(X_test))\n",
    "matrix =  np.divide(matrix.transpose(),np.sum(matrix, axis=1)).transpose() * 100\n",
    "fig, ax = plt.subplots(figsize=(4,4))\n",
    "ax = sns.heatmap(data=matrix, cmap=\"coolwarm\",linecolor='white',linewidths=2,\n",
    "    xticklabels=['Normal', 'Arrhythmia'],yticklabels=['Normal', 'Arrhythmia'],annot=True,fmt=\".2f\")    \n",
    "for t in ax.texts:t.set_text(t.get_text() + \"%\")\n",
    "plt.title(\"Confusion Matrix\")\n",
    "plt.ylabel(\"True Label\")\n",
    "plt.xlabel(\"Predicted Label\")\n",
    "ax.set_ylim([0,2])\n",
    "plt.show()    "
   ]
  },
  {
   "cell_type": "markdown",
   "metadata": {},
   "source": [
    "# for 16 class :"
   ]
  },
  {
   "cell_type": "code",
   "execution_count": 186,
   "metadata": {},
   "outputs": [
    {
     "data": {
      "image/png": "[encoded data removed]",
      "text/plain": [
       "<Figure size 432x288 with 1 Axes>"
      ]
     },
     "metadata": {
      "needs_background": "light"
     },
     "output_type": "display_data"
    }
   ],
   "source": [
    "tag = df.iloc[:,-1]\n",
    "ax = tag.value_counts(sort = False).plot(kind='bar',title='show calss histogram')\n",
    "ax.set_xticks(range(0,16))\n",
    "plt.show()"
   ]
  },
  {
   "cell_type": "markdown",
   "metadata": {},
   "source": [
    "## Convert lable to one-hot"
   ]
  },
  {
   "cell_type": "code",
   "execution_count": 187,
   "metadata": {},
   "outputs": [],
   "source": [
    "tag = np.zeros((y_train.shape[0],16),dtype=int)\n",
    "for i in range(0,y_train.shape[0]):\n",
    "    tag[i,y_train.iloc[i]-1] = 1\n",
    "y_train = tag\n",
    "\n",
    "\n",
    "tag = np.zeros((y_test.shape[0],16))\n",
    "for i in range(0,y_test.shape[0]):\n",
    "    tag[i,y_test.iloc[i] - 1] = 1\n",
    "y_test = tag"
   ]
  },
  {
   "cell_type": "markdown",
   "metadata": {},
   "source": [
    "### after cross validation chose hyperparameter value"
   ]
  },
  {
   "cell_type": "code",
   "execution_count": 198,
   "metadata": {},
   "outputs": [
    {
     "name": "stdout",
     "output_type": "stream",
     "text": [
      "[0.4375     0.61904762 0.46031746 0.6031746  0.49206349]\n",
      "0.5224206349206348\n"
     ]
    }
   ],
   "source": [
    "alpha = 0.01\n",
    "clf = MLPClassifier(max_iter=3000, activation='logistic', solver='adam', alpha=alpha,learning_rate = 'invscaling'\n",
    "                    ,learning_rate_init = 0.01, power_t = 0.2,\n",
    "                     hidden_layer_sizes=(43,43,21,16,),momentum=0.9,batch_size='auto', random_state=10, validation_fraction=0.15\n",
    "                   ,early_stopping =True, n_iter_no_change= 50)\n",
    "scores = cross_val_score(clf, X_train, y_train, cv=5)\n",
    "print(scores)\n",
    "print(scores.mean())"
   ]
  },
  {
   "cell_type": "code",
   "execution_count": 199,
   "metadata": {},
   "outputs": [
    {
     "data": {
      "text/plain": [
       "MLPClassifier(activation='logistic', alpha=0.01, batch_size='auto', beta_1=0.9,\n",
       "              beta_2=0.999, early_stopping=True, epsilon=1e-08,\n",
       "              hidden_layer_sizes=(43, 43, 21, 16), learning_rate='invscaling',\n",
       "              learning_rate_init=0.01, max_fun=15000, max_iter=3000,\n",
       "              momentum=0.9, n_iter_no_change=50, nesterovs_momentum=True,\n",
       "              power_t=0.2, random_state=10, shuffle=True, solver='adam',\n",
       "              tol=0.0001, validation_fraction=0.15, verbose=False,\n",
       "              warm_start=False)"
      ]
     },
     "execution_count": 199,
     "metadata": {},
     "output_type": "execute_result"
    }
   ],
   "source": [
    "clf.fit(X_train, y_train)"
   ]
  },
  {
   "cell_type": "code",
   "execution_count": null,
   "metadata": {},
   "outputs": [],
   "source": [
    "print(f'Train accuracy is : {metrics.accuracy_score(clf.predict(X_train), y_train)}')\n",
    "print(f'Test accuracy is : {metrics.accuracy_score(clf.predict(X_test), y_test)}')"
   ]
  },
  {
   "cell_type": "code",
   "execution_count": null,
   "metadata": {},
   "outputs": [],
   "source": [
    "matrix = create_confusion_matrix(np.argmax(np.concatenate((y_train,y_test)), axis=1), np.argmax(clf.predict(np.concatenate((X_train,X_test))),axis=1))\n",
    "matrix =  np.nan_to_num(np.divide(matrix.transpose(),np.sum(matrix, axis=1)).transpose() * 100 )\n",
    "fig, ax = plt.subplots(figsize=(12,8))\n",
    "sns.heatmap(data=matrix, cmap=\"coolwarm\",linecolor='white',linewidths=2,\n",
    "    xticklabels=[str(i) for i in range(1,17)],yticklabels=[str(i) for i in range(1,17)],annot=True,fmt=\".0f\")    \n",
    "for t in ax.texts:t.set_text(t.get_text() + \"%\")\n",
    "plt.title(\"Confusion Matrix\")\n",
    "plt.ylabel(\"True Label\")\n",
    "plt.xlabel(\"Predicted Label\")\n",
    "ax.set_ylim([0,16])\n",
    "plt.show()    "
   ]
  }
 ],
 "metadata": {
  "hide_input": false,
  "kernelspec": {
   "display_name": "Python 3",
   "language": "python",
   "name": "python3"
  },
  "language_info": {
   "codemirror_mode": {
    "name": "ipython",
    "version": 3
   },
   "file_extension": ".py",
   "mimetype": "text/x-python",
   "name": "python",
   "nbconvert_exporter": "python",
   "pygments_lexer": "ipython3",
   "version": "3.8.5"
  },
  "varInspector": {
   "cols": {
    "lenName": 16,
    "lenType": 16,
    "lenVar": 40
   },
   "kernels_config": {
    "python": {
     "delete_cmd_postfix": "",
     "delete_cmd_prefix": "del ",
     "library": "var_list.py",
     "varRefreshCmd": "print(var_dic_list())"
    },
    "r": {
     "delete_cmd_postfix": ") ",
     "delete_cmd_prefix": "rm(",
     "library": "var_list.r",
     "varRefreshCmd": "cat(var_dic_list()) "
    }
   },
   "types_to_exclude": [
    "module",
    "function",
    "builtin_function_or_method",
    "instance",
    "_Feature"
   ],
   "window_display": false
  }
 },
 "nbformat": 4,
 "nbformat_minor": 2
}
